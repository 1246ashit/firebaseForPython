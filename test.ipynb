{
 "cells": [
  {
   "cell_type": "code",
   "execution_count": 8,
   "metadata": {},
   "outputs": [],
   "source": [
    "from linebot import LineBotApi\n",
    "from linebot.models import TextSendMessage\n",
    "from linebot.models import ImageSendMessage\n",
    "import time\n",
    "from cloudinary.uploader import upload\n",
    "import cloudinary\n",
    "from cloudinary.utils import cloudinary_url"
   ]
  },
  {
   "cell_type": "code",
   "execution_count": 13,
   "metadata": {},
   "outputs": [],
   "source": [
    "\n",
    "def buildLineConn():\n",
    "    line_bot_api = LineBotApi('QXOpsah7x1u7z32mpTd0Hnhv+XcbDxO3ua4HHrdxj9IWZA0Ow74ZdMa50AjeplzID6YMHxVUjVGQP/XzXEqbhCk4lL0QTzbAoSRRD/qGqKINvexHgeTgMSGGv7vI5/gzorNX761VhCjIZu3xjf8NgAdB04t89/1O/w1cDnyilFU=')\n",
    "    yourID = 'U83b2468825f9b4c101039e594a9a8446'\n",
    "\n",
    "    image_message = ImageSendMessage(\n",
    "        original_content_url='https://res.cloudinary.com/dxcyu5nun/image/upload/v1684287498/tih0jelx4qsropx5srcx.jpg',\n",
    "        preview_image_url='https://res.cloudinary.com/dxcyu5nun/image/upload/v1684287498/tih0jelx4qsropx5srcx.jpg'\n",
    "        )\n",
    "    line_bot_api.push_message(yourID, image_message)\n",
    "    line_bot_api.push_message(yourID, TextSendMessage(text='有危險發生'))"
   ]
  },
  {
   "cell_type": "code",
   "execution_count": 15,
   "metadata": {},
   "outputs": [
    {
     "ename": "LineBotApiError",
     "evalue": "LineBotApiError: status_code=401, request_id=275652f4-8d6e-4734-880d-b220efe9b91d, error_response={\"details\": [], \"message\": \"Authentication failed. Confirm that the access token in the authorization header is valid.\"}, headers={'Server': 'legy', 'Content-Type': 'application/json', 'WWW-Authenticate': 'Bearer error=\"invalid_token\", error_description=\"accessToken expired(2)\"', 'x-content-type-options': 'nosniff', 'x-frame-options': 'DENY', 'x-line-request-id': '275652f4-8d6e-4734-880d-b220efe9b91d', 'x-xss-protection': '1; mode=block', 'Content-Length': '104', 'Expires': 'Wed, 17 May 2023 02:07:01 GMT', 'Cache-Control': 'max-age=0, no-cache, no-store', 'Pragma': 'no-cache', 'Date': 'Wed, 17 May 2023 02:07:01 GMT', 'Connection': 'close'}",
     "output_type": "error",
     "traceback": [
      "\u001b[1;31m---------------------------------------------------------------------------\u001b[0m",
      "\u001b[1;31mLineBotApiError\u001b[0m                           Traceback (most recent call last)",
      "Cell \u001b[1;32mIn[15], line 3\u001b[0m\n\u001b[0;32m      1\u001b[0m \u001b[39mimport\u001b[39;00m \u001b[39mfunction\u001b[39;00m\u001b[39m.\u001b[39;00m\u001b[39mlineAlert\u001b[39;00m \u001b[39mas\u001b[39;00m \u001b[39mlineAlert\u001b[39;00m\n\u001b[1;32m----> 3\u001b[0m lineAlert\u001b[39m.\u001b[39;49mbuildLineConn()\n",
      "File \u001b[1;32mc:\\Users\\user\\Desktop\\firebaseForPython\\function\\lineAlert.py:32\u001b[0m, in \u001b[0;36mbuildLineConn\u001b[1;34m()\u001b[0m\n\u001b[0;32m     26\u001b[0m yourID \u001b[39m=\u001b[39m \u001b[39m'\u001b[39m\u001b[39mU83b2468825f9b4c101039e594a9a8446\u001b[39m\u001b[39m'\u001b[39m\n\u001b[0;32m     28\u001b[0m image_message \u001b[39m=\u001b[39m ImageSendMessage(\n\u001b[0;32m     29\u001b[0m     original_content_url\u001b[39m=\u001b[39m\u001b[39m'\u001b[39m\u001b[39mhttps://res.cloudinary.com/dxcyu5nun/image/upload/v1684287498/tih0jelx4qsropx5srcx.jpg\u001b[39m\u001b[39m'\u001b[39m,\n\u001b[0;32m     30\u001b[0m     preview_image_url\u001b[39m=\u001b[39m\u001b[39m'\u001b[39m\u001b[39mhttps://res.cloudinary.com/dxcyu5nun/image/upload/v1684287498/tih0jelx4qsropx5srcx.jpg\u001b[39m\u001b[39m'\u001b[39m\n\u001b[0;32m     31\u001b[0m )\n\u001b[1;32m---> 32\u001b[0m line_bot_api\u001b[39m.\u001b[39;49mreply_message(yourID, image_message)\n\u001b[0;32m     33\u001b[0m line_bot_api\u001b[39m.\u001b[39mpush_message(yourID, \n\u001b[0;32m     34\u001b[0m                       TextSendMessage(text\u001b[39m=\u001b[39m\u001b[39m'\u001b[39m\u001b[39m有危險發生\u001b[39m\u001b[39m'\u001b[39m))\n",
      "File \u001b[1;32mc:\\Users\\user\\.conda\\envs\\hsd\\lib\\site-packages\\linebot\\api.py:116\u001b[0m, in \u001b[0;36mLineBotApi.reply_message\u001b[1;34m(self, reply_token, messages, notification_disabled, timeout)\u001b[0m\n\u001b[0;32m    108\u001b[0m     messages \u001b[39m=\u001b[39m [messages]\n\u001b[0;32m    110\u001b[0m data \u001b[39m=\u001b[39m {\n\u001b[0;32m    111\u001b[0m     \u001b[39m'\u001b[39m\u001b[39mreplyToken\u001b[39m\u001b[39m'\u001b[39m: reply_token,\n\u001b[0;32m    112\u001b[0m     \u001b[39m'\u001b[39m\u001b[39mmessages\u001b[39m\u001b[39m'\u001b[39m: [message\u001b[39m.\u001b[39mas_json_dict() \u001b[39mfor\u001b[39;00m message \u001b[39min\u001b[39;00m messages],\n\u001b[0;32m    113\u001b[0m     \u001b[39m'\u001b[39m\u001b[39mnotificationDisabled\u001b[39m\u001b[39m'\u001b[39m: notification_disabled,\n\u001b[0;32m    114\u001b[0m }\n\u001b[1;32m--> 116\u001b[0m \u001b[39mself\u001b[39;49m\u001b[39m.\u001b[39;49m_post(\n\u001b[0;32m    117\u001b[0m     \u001b[39m'\u001b[39;49m\u001b[39m/v2/bot/message/reply\u001b[39;49m\u001b[39m'\u001b[39;49m, data\u001b[39m=\u001b[39;49mjson\u001b[39m.\u001b[39;49mdumps(data), timeout\u001b[39m=\u001b[39;49mtimeout\n\u001b[0;32m    118\u001b[0m )\n",
      "File \u001b[1;32mc:\\Users\\user\\.conda\\envs\\hsd\\lib\\site-packages\\linebot\\api.py:2033\u001b[0m, in \u001b[0;36mLineBotApi._post\u001b[1;34m(self, path, endpoint, data, headers, timeout)\u001b[0m\n\u001b[0;32m   2027\u001b[0m headers\u001b[39m.\u001b[39mupdate(\u001b[39mself\u001b[39m\u001b[39m.\u001b[39mheaders)\n\u001b[0;32m   2029\u001b[0m response \u001b[39m=\u001b[39m \u001b[39mself\u001b[39m\u001b[39m.\u001b[39mhttp_client\u001b[39m.\u001b[39mpost(\n\u001b[0;32m   2030\u001b[0m     url, headers\u001b[39m=\u001b[39mheaders, data\u001b[39m=\u001b[39mdata, timeout\u001b[39m=\u001b[39mtimeout\n\u001b[0;32m   2031\u001b[0m )\n\u001b[1;32m-> 2033\u001b[0m \u001b[39mself\u001b[39;49m\u001b[39m.\u001b[39;49m__check_error(response)\n\u001b[0;32m   2034\u001b[0m \u001b[39mreturn\u001b[39;00m response\n",
      "File \u001b[1;32mc:\\Users\\user\\.conda\\envs\\hsd\\lib\\site-packages\\linebot\\api.py:2069\u001b[0m, in \u001b[0;36mLineBotApi.__check_error\u001b[1;34m(response)\u001b[0m\n\u001b[0;32m   2067\u001b[0m     \u001b[39mpass\u001b[39;00m\n\u001b[0;32m   2068\u001b[0m \u001b[39melse\u001b[39;00m:\n\u001b[1;32m-> 2069\u001b[0m     \u001b[39mraise\u001b[39;00m LineBotApiError(\n\u001b[0;32m   2070\u001b[0m         status_code\u001b[39m=\u001b[39mresponse\u001b[39m.\u001b[39mstatus_code,\n\u001b[0;32m   2071\u001b[0m         headers\u001b[39m=\u001b[39m\u001b[39mdict\u001b[39m(response\u001b[39m.\u001b[39mheaders\u001b[39m.\u001b[39mitems()),\n\u001b[0;32m   2072\u001b[0m         request_id\u001b[39m=\u001b[39mresponse\u001b[39m.\u001b[39mheaders\u001b[39m.\u001b[39mget(\u001b[39m'\u001b[39m\u001b[39mX-Line-Request-Id\u001b[39m\u001b[39m'\u001b[39m),\n\u001b[0;32m   2073\u001b[0m         accepted_request_id\u001b[39m=\u001b[39mresponse\u001b[39m.\u001b[39mheaders\u001b[39m.\u001b[39mget(\u001b[39m'\u001b[39m\u001b[39mX-Line-Accepted-Request-Id\u001b[39m\u001b[39m'\u001b[39m),\n\u001b[0;32m   2074\u001b[0m         error\u001b[39m=\u001b[39mError\u001b[39m.\u001b[39mnew_from_json_dict(response\u001b[39m.\u001b[39mjson)\n\u001b[0;32m   2075\u001b[0m     )\n",
      "\u001b[1;31mLineBotApiError\u001b[0m: LineBotApiError: status_code=401, request_id=275652f4-8d6e-4734-880d-b220efe9b91d, error_response={\"details\": [], \"message\": \"Authentication failed. Confirm that the access token in the authorization header is valid.\"}, headers={'Server': 'legy', 'Content-Type': 'application/json', 'WWW-Authenticate': 'Bearer error=\"invalid_token\", error_description=\"accessToken expired(2)\"', 'x-content-type-options': 'nosniff', 'x-frame-options': 'DENY', 'x-line-request-id': '275652f4-8d6e-4734-880d-b220efe9b91d', 'x-xss-protection': '1; mode=block', 'Content-Length': '104', 'Expires': 'Wed, 17 May 2023 02:07:01 GMT', 'Cache-Control': 'max-age=0, no-cache, no-store', 'Pragma': 'no-cache', 'Date': 'Wed, 17 May 2023 02:07:01 GMT', 'Connection': 'close'}"
     ]
    }
   ],
   "source": [
    "import function.lineAlert as lineAlert\n",
    "\n",
    "lineAlert.buildLineConn()"
   ]
  },
  {
   "cell_type": "code",
   "execution_count": 16,
   "metadata": {},
   "outputs": [],
   "source": [
    "buildLineConn()"
   ]
  }
 ],
 "metadata": {
  "kernelspec": {
   "display_name": "hsd",
   "language": "python",
   "name": "python3"
  },
  "language_info": {
   "codemirror_mode": {
    "name": "ipython",
    "version": 3
   },
   "file_extension": ".py",
   "mimetype": "text/x-python",
   "name": "python",
   "nbconvert_exporter": "python",
   "pygments_lexer": "ipython3",
   "version": "3.10.11"
  },
  "orig_nbformat": 4
 },
 "nbformat": 4,
 "nbformat_minor": 2
}
